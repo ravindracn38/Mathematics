{
 "cells": [
  {
   "cell_type": "code",
   "execution_count": null,
   "id": "1c365e4d",
   "metadata": {},
   "outputs": [],
   "source": [
    "# Divisors of a given number\n",
    "n=int(input(\"Enter the number- \"))\n",
    "\n",
    "def Divisors(n) :\n",
    "    i = 1\n",
    "    while i <= n :            #sqrt n can also be used\n",
    "        if (n % i==0) :\n",
    "            print (i,end=\" \")\n",
    "        i = i + 1\n",
    "\n",
    "Divisors(n)"
   ]
  },
  {
   "cell_type": "code",
   "execution_count": null,
   "id": "8945d087",
   "metadata": {},
   "outputs": [],
   "source": [
    "# H.C.F of two numbers\n",
    "def H_C_F(a,b):\n",
    "    hcf=min(a,b)\n",
    "    hcf1=int(hcf/2)\n",
    "    if a%hcf==0 and b%hcf==0 :\n",
    "        return hcf\n",
    "    while hcf1:\n",
    "        if a%hcf1==0 and b%hcf1==0 :\n",
    "            break\n",
    "        hcf1=hcf1-1\n",
    "    return hcf1\n",
    "\n",
    "a=int(input(\"Enter the first number- \"))\n",
    "b=int(input(\"Enter the second number- \"))\n",
    "\n",
    "print(\"HCF of the given numbers- \",end=\"\")\n",
    "print(H_C_F(a,b))"
   ]
  },
  {
   "cell_type": "code",
   "execution_count": null,
   "id": "aa54d200",
   "metadata": {},
   "outputs": [],
   "source": [
    "# H.C.F of two numbers Euclid's Algorithm\n",
    "def gcd(a, b):\n",
    "    if a == 0 :\n",
    "        return b\n",
    "     \n",
    "    return gcd(b%a, a)\n",
    "\n",
    "a=int(input(\"Enter the first number- \"))\n",
    "b=int(input(\"Enter the second number- \"))\n",
    "\n",
    "print(\"HCF of the given numbers- \",end=\"\")\n",
    "print(gcd(a,b))\n",
    "\n",
    "\n",
    "    "
   ]
  },
  {
   "cell_type": "code",
   "execution_count": null,
   "id": "5b6df01d",
   "metadata": {},
   "outputs": [],
   "source": [
    "# L.C.M of two numbers\n",
    "def lcm(a,b):\n",
    "    m=max(a,b)\n",
    "    while True:\n",
    "        if(m%a==0 and m%b==0):\n",
    "            lcm=m\n",
    "            break\n",
    "        m=m+1\n",
    "    return lcm\n",
    "\n",
    "a=int(input(\"Enter the first number- \"))\n",
    "b=int(input(\"Enter the second number- \"))\n",
    "\n",
    "print(\"LCM of the given numbers- \",end=\"\")\n",
    "print(lcm(a,b))"
   ]
  },
  {
   "cell_type": "code",
   "execution_count": null,
   "id": "1597a123",
   "metadata": {},
   "outputs": [],
   "source": []
  },
  {
   "cell_type": "code",
   "execution_count": null,
   "id": "d1f3e46c",
   "metadata": {},
   "outputs": [],
   "source": []
  }
 ],
 "metadata": {
  "kernelspec": {
   "display_name": "Python 3 (ipykernel)",
   "language": "python",
   "name": "python3"
  },
  "language_info": {
   "codemirror_mode": {
    "name": "ipython",
    "version": 3
   },
   "file_extension": ".py",
   "mimetype": "text/x-python",
   "name": "python",
   "nbconvert_exporter": "python",
   "pygments_lexer": "ipython3",
   "version": "3.9.12"
  }
 },
 "nbformat": 4,
 "nbformat_minor": 5
}
