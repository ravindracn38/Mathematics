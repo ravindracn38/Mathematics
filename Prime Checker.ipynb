{
 "cells": [
  {
   "cell_type": "code",
   "execution_count": null,
   "id": "cd124005",
   "metadata": {},
   "outputs": [],
   "source": [
    "#Method 1\n",
    "#All primes greater than 3 areof the form 6n(+/-)1\n",
    "import math\n",
    " \n",
    "def isPrime(n):\n",
    "    if n == 2 or n == 3:\n",
    "        return True\n",
    "    elif n <= 1 or n % 2 == 0 or n % 3 == 0:\n",
    "        return False\n",
    "       \n",
    "        # To check through all numbers of the form 6k ± 1\n",
    "    # untill i <= square root of n, with step value 6\n",
    "    for i in range(5, int(math.sqrt(n))+1, 6):\n",
    "        if n % i == 0 or n % (i+2) == 0:\n",
    "            return False\n",
    " \n",
    "    return True\n",
    " \n",
    "# # Driver code\n",
    "n=int(input(\"Enter the Number - \"))\n",
    "isPrime(n)\n",
    "\n",
    "#--------------------------------------------------------------------------------------------------------------------------------#\n",
    "\n",
    "\n",
    "#Method2 The Classic way\n",
    "\n",
    "def prime_checker (n):\n",
    "    flag=0\n",
    "    if(n<=1):\n",
    "        return(flag-1)\n",
    "    elif(n!=2):\n",
    "        for i in range(2,int(n/2) +1):   #btw here you can use sqrt(n)would result in less no of iterarions but would take same amount of time for sqrt\n",
    "            if(n%i== 0):\n",
    "                flag=-1\n",
    "                break\n",
    "        return(flag)\n",
    "    else:\n",
    "        return(flag)\n",
    "        \n",
    "n=int(input(\"Enter the number you want to check for: \"))\n",
    "\n",
    "if(prime_checker(n)==0):\n",
    "    print(\"The number is PRIME\")\n",
    "else:\n",
    "    print(\"The number is NOT PRIME\")\n",
    "    \n",
    "    "
   ]
  }
 ],
 "metadata": {
  "kernelspec": {
   "display_name": "Python 3 (ipykernel)",
   "language": "python",
   "name": "python3"
  },
  "language_info": {
   "codemirror_mode": {
    "name": "ipython",
    "version": 3
   },
   "file_extension": ".py",
   "mimetype": "text/x-python",
   "name": "python",
   "nbconvert_exporter": "python",
   "pygments_lexer": "ipython3",
   "version": "3.9.12"
  }
 },
 "nbformat": 4,
 "nbformat_minor": 5
}
